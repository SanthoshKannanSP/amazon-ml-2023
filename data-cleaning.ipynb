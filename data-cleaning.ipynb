{
 "cells": [
  {
   "cell_type": "code",
   "execution_count": 11,
   "metadata": {
    "tags": []
   },
   "outputs": [],
   "source": [
    "import re\n",
    "import nltk\n",
    "import pandas as pd\n",
    "import multiprocessing"
   ]
  },
  {
   "cell_type": "code",
   "execution_count": 12,
   "metadata": {
    "tags": []
   },
   "outputs": [],
   "source": [
    "df = pd.read_feather(\"remove_stop_words.feather\")"
   ]
  },
  {
   "cell_type": "code",
   "execution_count": 13,
   "metadata": {
    "tags": []
   },
   "outputs": [
    {
     "data": {
      "text/html": [
       "<div>\n",
       "<style scoped>\n",
       "    .dataframe tbody tr th:only-of-type {\n",
       "        vertical-align: middle;\n",
       "    }\n",
       "\n",
       "    .dataframe tbody tr th {\n",
       "        vertical-align: top;\n",
       "    }\n",
       "\n",
       "    .dataframe thead th {\n",
       "        text-align: right;\n",
       "    }\n",
       "</style>\n",
       "<table border=\"1\" class=\"dataframe\">\n",
       "  <thead>\n",
       "    <tr style=\"text-align: right;\">\n",
       "      <th></th>\n",
       "      <th>TITLE</th>\n",
       "      <th>DESCRIPTION</th>\n",
       "      <th>PRODUCT_TYPE_ID</th>\n",
       "      <th>PRODUCT_LENGTH</th>\n",
       "    </tr>\n",
       "  </thead>\n",
       "  <tbody>\n",
       "    <tr>\n",
       "      <th>0</th>\n",
       "      <td>artzfolio tulip flowers blackout curtaindoor w...</td>\n",
       "      <td>luxurious appealing beautiful custom-made cur...</td>\n",
       "      <td>1650</td>\n",
       "      <td>2125.980000</td>\n",
       "    </tr>\n",
       "    <tr>\n",
       "      <th>1</th>\n",
       "      <td>marks spencer girls pyjama sets t86_2561c_navy...</td>\n",
       "      <td>harry potter hedwig pyjamas (6-16 yrs) 100% c...</td>\n",
       "      <td>2755</td>\n",
       "      <td>393.700000</td>\n",
       "    </tr>\n",
       "    <tr>\n",
       "      <th>2</th>\n",
       "      <td>priknik horn red electric air horn compressor ...</td>\n",
       "      <td>specifications color red material aluminium vo...</td>\n",
       "      <td>7537</td>\n",
       "      <td>748.031495</td>\n",
       "    </tr>\n",
       "    <tr>\n",
       "      <th>3</th>\n",
       "      <td>alishah women cotton ankle length leggings com...</td>\n",
       "      <td>aishah women lycra cotton ankel leggings brand...</td>\n",
       "      <td>2996</td>\n",
       "      <td>787.401574</td>\n",
       "    </tr>\n",
       "    <tr>\n",
       "      <th>4</th>\n",
       "      <td>the united empire loyalistschronicle ofgreat m...</td>\n",
       "      <td>the united empire loyalists chronicle great mi...</td>\n",
       "      <td>6112</td>\n",
       "      <td>598.424000</td>\n",
       "    </tr>\n",
       "    <tr>\n",
       "      <th>...</th>\n",
       "      <td>...</td>\n",
       "      <td>...</td>\n",
       "      <td>...</td>\n",
       "      <td>...</td>\n",
       "    </tr>\n",
       "    <tr>\n",
       "      <th>2249680</th>\n",
       "      <td>nike womenw ny df swsh hn kh bra (cz7610-010_b...</td>\n",
       "      <td>material polyester</td>\n",
       "      <td>3009</td>\n",
       "      <td>1181.100000</td>\n",
       "    </tr>\n",
       "    <tr>\n",
       "      <th>2249681</th>\n",
       "      <td>(3pcs) goose game cute cartoon enamel pins fun...</td>\n",
       "      <td>brand xvieonr   product name fashion cute bro...</td>\n",
       "      <td>3413</td>\n",
       "      <td>125.984252</td>\n",
       "    </tr>\n",
       "    <tr>\n",
       "      <th>2249682</th>\n",
       "      <td>kangroo sweep movement printed wooden wall clo...</td>\n",
       "      <td>wall clocks attractive looks easy handle wide ...</td>\n",
       "      <td>1574</td>\n",
       "      <td>1200.000000</td>\n",
       "    </tr>\n",
       "    <tr>\n",
       "      <th>2249683</th>\n",
       "      <td>electro voice ekx-brkt15 wall mount bracketekx...</td>\n",
       "      <td>electro voice ekx-brkt15 wall mount bracket ek...</td>\n",
       "      <td>592</td>\n",
       "      <td>2900.000000</td>\n",
       "    </tr>\n",
       "    <tr>\n",
       "      <th>2249684</th>\n",
       "      <td>skyjacker c7360sp component boxpn c7360pk 4lif...</td>\n",
       "      <td>skyjacker c7360sp component box pn c7360pk lif...</td>\n",
       "      <td>7367</td>\n",
       "      <td>2000.000000</td>\n",
       "    </tr>\n",
       "  </tbody>\n",
       "</table>\n",
       "<p>2249685 rows × 4 columns</p>\n",
       "</div>"
      ],
      "text/plain": [
       "                                                     TITLE  \\\n",
       "0        artzfolio tulip flowers blackout curtaindoor w...   \n",
       "1        marks spencer girls pyjama sets t86_2561c_navy...   \n",
       "2        priknik horn red electric air horn compressor ...   \n",
       "3        alishah women cotton ankle length leggings com...   \n",
       "4        the united empire loyalistschronicle ofgreat m...   \n",
       "...                                                    ...   \n",
       "2249680  nike womenw ny df swsh hn kh bra (cz7610-010_b...   \n",
       "2249681  (3pcs) goose game cute cartoon enamel pins fun...   \n",
       "2249682  kangroo sweep movement printed wooden wall clo...   \n",
       "2249683  electro voice ekx-brkt15 wall mount bracketekx...   \n",
       "2249684  skyjacker c7360sp component boxpn c7360pk 4lif...   \n",
       "\n",
       "                                               DESCRIPTION  PRODUCT_TYPE_ID  \\\n",
       "0         luxurious appealing beautiful custom-made cur...             1650   \n",
       "1         harry potter hedwig pyjamas (6-16 yrs) 100% c...             2755   \n",
       "2        specifications color red material aluminium vo...             7537   \n",
       "3        aishah women lycra cotton ankel leggings brand...             2996   \n",
       "4        the united empire loyalists chronicle great mi...             6112   \n",
       "...                                                    ...              ...   \n",
       "2249680                                 material polyester             3009   \n",
       "2249681   brand xvieonr   product name fashion cute bro...             3413   \n",
       "2249682  wall clocks attractive looks easy handle wide ...             1574   \n",
       "2249683  electro voice ekx-brkt15 wall mount bracket ek...              592   \n",
       "2249684  skyjacker c7360sp component box pn c7360pk lif...             7367   \n",
       "\n",
       "         PRODUCT_LENGTH  \n",
       "0           2125.980000  \n",
       "1            393.700000  \n",
       "2            748.031495  \n",
       "3            787.401574  \n",
       "4            598.424000  \n",
       "...                 ...  \n",
       "2249680     1181.100000  \n",
       "2249681      125.984252  \n",
       "2249682     1200.000000  \n",
       "2249683     2900.000000  \n",
       "2249684     2000.000000  \n",
       "\n",
       "[2249685 rows x 4 columns]"
      ]
     },
     "execution_count": 13,
     "metadata": {},
     "output_type": "execute_result"
    }
   ],
   "source": [
    "df"
   ]
  },
  {
   "cell_type": "code",
   "execution_count": 14,
   "metadata": {
    "tags": []
   },
   "outputs": [
    {
     "data": {
      "text/plain": [
       "' luxurious appealing beautiful custom-made curtains decorate home office includes inbuilt tieback hold curtain completely finished ready hang walls windows material luxurious versatile fabric natural finish high colour fastness state-of-the-art digital printing ensures colour consistency prevents fading eyelets cotton canvas width 4 5feet (54inch) multicolour package 2 room curtains eyelets size height 5 feet (60 inch) set 2 pcs blackout curtain 100% opaque heavy premium cotton canvas fabric tight knitted long life durable fabric printing front side plain colour back side made perfection large eyelets top put hanging hooks perfectly tailored seams durability refined stitching matching thread color quality assured gentle wash similar colors cold water avoid direct sunlight prevent fading dispatched multiple quality checks '"
      ]
     },
     "execution_count": 14,
     "metadata": {},
     "output_type": "execute_result"
    }
   ],
   "source": [
    "df.iloc[0].DESCRIPTION"
   ]
  },
  {
   "cell_type": "code",
   "execution_count": 15,
   "metadata": {
    "tags": []
   },
   "outputs": [],
   "source": [
    "df['DESCRIPTION'] = df['DESCRIPTION'].str.replace(r'<[^<>]*>', '', regex=True)\n",
    "df['TITLE'] = df['TITLE'].str.replace(r'<[^<>]*>', '', regex=True)"
   ]
  },
  {
   "cell_type": "code",
   "execution_count": 8,
   "metadata": {
    "tags": []
   },
   "outputs": [],
   "source": [
    "df['DESCRIPTION'] = df['DESCRIPTION'].apply(lambda x: re.split('https:\\/\\/.*', str(x))[0])\n",
    "df['TITLE'] = df['TITLE'].apply(lambda x: re.split('https:\\/\\/.*', str(x))[0])"
   ]
  },
  {
   "cell_type": "code",
   "execution_count": null,
   "metadata": {
    "tags": []
   },
   "outputs": [],
   "source": [
    "# df.to_feather(\"data-cleaned\")"
   ]
  },
  {
   "cell_type": "code",
   "execution_count": 21,
   "metadata": {},
   "outputs": [
    {
     "ename": "FileNotFoundError",
     "evalue": "[Errno 2] No such file or directory: '/usr/share/nltk_data/corpora/wordnet.zip'",
     "output_type": "error",
     "traceback": [
      "\u001b[0;31m---------------------------------------------------------------------------\u001b[0m",
      "\u001b[0;31mFileNotFoundError\u001b[0m                         Traceback (most recent call last)",
      "Input \u001b[0;32mIn [21]\u001b[0m, in \u001b[0;36m<cell line: 2>\u001b[0;34m()\u001b[0m\n\u001b[1;32m      1\u001b[0m \u001b[38;5;28;01mimport\u001b[39;00m \u001b[38;5;21;01mzipfile\u001b[39;00m\n\u001b[0;32m----> 2\u001b[0m \u001b[38;5;28;01mwith\u001b[39;00m \u001b[43mzipfile\u001b[49m\u001b[38;5;241;43m.\u001b[39;49m\u001b[43mZipFile\u001b[49m\u001b[43m(\u001b[49m\u001b[38;5;124;43m\"\u001b[39;49m\u001b[38;5;124;43m/usr/share/nltk_data/corpora/wordnet.zip\u001b[39;49m\u001b[38;5;124;43m\"\u001b[39;49m\u001b[43m,\u001b[49m\u001b[43m \u001b[49m\u001b[38;5;124;43m'\u001b[39;49m\u001b[38;5;124;43mr\u001b[39;49m\u001b[38;5;124;43m'\u001b[39;49m\u001b[43m)\u001b[49m \u001b[38;5;28;01mas\u001b[39;00m zip_ref:\n\u001b[1;32m      3\u001b[0m     zip_ref\u001b[38;5;241m.\u001b[39mextractall(\u001b[38;5;124m\"\u001b[39m\u001b[38;5;124m/usr/share/nltk_data/corpora\u001b[39m\u001b[38;5;124m\"\u001b[39m)\n",
      "File \u001b[0;32m/opt/homebrew/Caskroom/miniconda/base/envs/ml38/lib/python3.8/zipfile.py:1251\u001b[0m, in \u001b[0;36mZipFile.__init__\u001b[0;34m(self, file, mode, compression, allowZip64, compresslevel, strict_timestamps)\u001b[0m\n\u001b[1;32m   1249\u001b[0m \u001b[38;5;28;01mwhile\u001b[39;00m \u001b[38;5;28;01mTrue\u001b[39;00m:\n\u001b[1;32m   1250\u001b[0m     \u001b[38;5;28;01mtry\u001b[39;00m:\n\u001b[0;32m-> 1251\u001b[0m         \u001b[38;5;28mself\u001b[39m\u001b[38;5;241m.\u001b[39mfp \u001b[38;5;241m=\u001b[39m \u001b[43mio\u001b[49m\u001b[38;5;241;43m.\u001b[39;49m\u001b[43mopen\u001b[49m\u001b[43m(\u001b[49m\u001b[43mfile\u001b[49m\u001b[43m,\u001b[49m\u001b[43m \u001b[49m\u001b[43mfilemode\u001b[49m\u001b[43m)\u001b[49m\n\u001b[1;32m   1252\u001b[0m     \u001b[38;5;28;01mexcept\u001b[39;00m \u001b[38;5;167;01mOSError\u001b[39;00m:\n\u001b[1;32m   1253\u001b[0m         \u001b[38;5;28;01mif\u001b[39;00m filemode \u001b[38;5;129;01min\u001b[39;00m modeDict:\n",
      "\u001b[0;31mFileNotFoundError\u001b[0m: [Errno 2] No such file or directory: '/usr/share/nltk_data/corpora/wordnet.zip'"
     ]
    }
   ],
   "source": [
    "import zipfile\n",
    "with zipfile.ZipFile(\"/usr/share/nltk_data/corpora/wordnet.zip\", 'r') as zip_ref:\n",
    "    zip_ref.extractall(\"/usr/share/nltk_data/corpora\")"
   ]
  },
  {
   "cell_type": "code",
   "execution_count": null,
   "metadata": {},
   "outputs": [],
   "source": [
    "from nltk.stem import WordNetLemmatizer\n",
    "lemmatizer = WordNetLemmatizer()"
   ]
  },
  {
   "cell_type": "code",
   "execution_count": null,
   "metadata": {},
   "outputs": [],
   "source": [
    "def lemmatize_words(text):\n",
    "    return \" \".join([lemmatizer.lemmatize(word) for word in text.split()])"
   ]
  },
  {
   "cell_type": "code",
   "execution_count": null,
   "metadata": {},
   "outputs": [],
   "source": [
    "with multiprocessing.Pool(processes=multiprocessing.cpu_count()) as pool:\n",
    "    df[\"TITLE\"]      = pool.map(lemmatize_words,df[\"TITLE\"])"
   ]
  },
  {
   "cell_type": "code",
   "execution_count": null,
   "metadata": {},
   "outputs": [],
   "source": [
    "df.iloc[1].TITLE"
   ]
  },
  {
   "cell_type": "code",
   "execution_count": null,
   "metadata": {},
   "outputs": [],
   "source": [
    "with multiprocessing.Pool(processes=multiprocessing.cpu_count()) as pool:\n",
    "    df[\"DESCRIPTION\"]      = pool.map(lemmatize_words,df[\"DESCRIPTION\"])"
   ]
  },
  {
   "cell_type": "code",
   "execution_count": null,
   "metadata": {},
   "outputs": [],
   "source": [
    "df.iloc[1].DESCRIPTION"
   ]
  },
  {
   "cell_type": "code",
   "execution_count": null,
   "metadata": {},
   "outputs": [],
   "source": [
    "df.to_feather(\"lemmetazation.feather\")"
   ]
  }
 ],
 "metadata": {
  "kernelspec": {
   "display_name": "Python 3 (ipykernel)",
   "language": "python",
   "name": "python3"
  },
  "language_info": {
   "codemirror_mode": {
    "name": "ipython",
    "version": 3
   },
   "file_extension": ".py",
   "mimetype": "text/x-python",
   "name": "python",
   "nbconvert_exporter": "python",
   "pygments_lexer": "ipython3",
   "version": "3.8.2"
  }
 },
 "nbformat": 4,
 "nbformat_minor": 4
}
