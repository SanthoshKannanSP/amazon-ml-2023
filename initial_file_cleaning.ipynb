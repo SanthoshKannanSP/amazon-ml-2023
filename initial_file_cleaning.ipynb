{
 "cells": [
  {
   "cell_type": "code",
   "execution_count": null,
   "id": "fb9bd730-4e82-43e0-bab6-b4af11378aab",
   "metadata": {},
   "outputs": [],
   "source": [
    "\"\"\"\n",
    "Filled description by BULLET_POINTS if available else with TITLE\n",
    "dropped rows which have nan value\n",
    "dropped bullet points and product id column\n",
    "changed dtypes for better storage\n",
    "saved as feather file format\n",
    "\"\"\""
   ]
  },
  {
   "cell_type": "code",
   "execution_count": 1,
   "id": "6c0291e4-0580-4e8d-9cbe-ba0356931233",
   "metadata": {
    "tags": []
   },
   "outputs": [],
   "source": [
    "import pandas as pd\n",
    "import numpy as np\n",
    "import csv"
   ]
  },
  {
   "cell_type": "code",
   "execution_count": 2,
   "id": "e18b1c1d-05cd-4350-912f-539fa1351b92",
   "metadata": {
    "tags": []
   },
   "outputs": [
    {
     "data": {
      "text/html": [
       "<div>\n",
       "<style scoped>\n",
       "    .dataframe tbody tr th:only-of-type {\n",
       "        vertical-align: middle;\n",
       "    }\n",
       "\n",
       "    .dataframe tbody tr th {\n",
       "        vertical-align: top;\n",
       "    }\n",
       "\n",
       "    .dataframe thead th {\n",
       "        text-align: right;\n",
       "    }\n",
       "</style>\n",
       "<table border=\"1\" class=\"dataframe\">\n",
       "  <thead>\n",
       "    <tr style=\"text-align: right;\">\n",
       "      <th></th>\n",
       "      <th>PRODUCT_ID</th>\n",
       "      <th>TITLE</th>\n",
       "      <th>BULLET_POINTS</th>\n",
       "      <th>DESCRIPTION</th>\n",
       "      <th>PRODUCT_TYPE_ID</th>\n",
       "      <th>PRODUCT_LENGTH</th>\n",
       "    </tr>\n",
       "  </thead>\n",
       "  <tbody>\n",
       "    <tr>\n",
       "      <th>0</th>\n",
       "      <td>1925202</td>\n",
       "      <td>ArtzFolio Tulip Flowers Blackout Curtain for D...</td>\n",
       "      <td>[LUXURIOUS &amp; APPEALING: Beautiful custom-made ...</td>\n",
       "      <td>NaN</td>\n",
       "      <td>1650</td>\n",
       "      <td>2125.980000</td>\n",
       "    </tr>\n",
       "    <tr>\n",
       "      <th>1</th>\n",
       "      <td>2673191</td>\n",
       "      <td>Marks &amp; Spencer Girls' Pyjama Sets T86_2561C_N...</td>\n",
       "      <td>[Harry Potter Hedwig Pyjamas (6-16 Yrs),100% c...</td>\n",
       "      <td>NaN</td>\n",
       "      <td>2755</td>\n",
       "      <td>393.700000</td>\n",
       "    </tr>\n",
       "    <tr>\n",
       "      <th>2</th>\n",
       "      <td>2765088</td>\n",
       "      <td>PRIKNIK Horn Red Electric Air Horn Compressor ...</td>\n",
       "      <td>[Loud Dual Tone Trumpet Horn, Compatible With ...</td>\n",
       "      <td>Specifications: Color: Red, Material: Aluminiu...</td>\n",
       "      <td>7537</td>\n",
       "      <td>748.031495</td>\n",
       "    </tr>\n",
       "    <tr>\n",
       "      <th>3</th>\n",
       "      <td>1594019</td>\n",
       "      <td>ALISHAH Women's Cotton Ankle Length Leggings C...</td>\n",
       "      <td>[Made By 95%cotton and 5% Lycra which gives yo...</td>\n",
       "      <td>AISHAH Women's Lycra Cotton Ankel Leggings. Br...</td>\n",
       "      <td>2996</td>\n",
       "      <td>787.401574</td>\n",
       "    </tr>\n",
       "    <tr>\n",
       "      <th>4</th>\n",
       "      <td>283658</td>\n",
       "      <td>The United Empire Loyalists: A Chronicle of th...</td>\n",
       "      <td>NaN</td>\n",
       "      <td>NaN</td>\n",
       "      <td>6112</td>\n",
       "      <td>598.424000</td>\n",
       "    </tr>\n",
       "  </tbody>\n",
       "</table>\n",
       "</div>"
      ],
      "text/plain": [
       "   PRODUCT_ID                                              TITLE   \n",
       "0     1925202  ArtzFolio Tulip Flowers Blackout Curtain for D...  \\\n",
       "1     2673191  Marks & Spencer Girls' Pyjama Sets T86_2561C_N...   \n",
       "2     2765088  PRIKNIK Horn Red Electric Air Horn Compressor ...   \n",
       "3     1594019  ALISHAH Women's Cotton Ankle Length Leggings C...   \n",
       "4      283658  The United Empire Loyalists: A Chronicle of th...   \n",
       "\n",
       "                                       BULLET_POINTS   \n",
       "0  [LUXURIOUS & APPEALING: Beautiful custom-made ...  \\\n",
       "1  [Harry Potter Hedwig Pyjamas (6-16 Yrs),100% c...   \n",
       "2  [Loud Dual Tone Trumpet Horn, Compatible With ...   \n",
       "3  [Made By 95%cotton and 5% Lycra which gives yo...   \n",
       "4                                                NaN   \n",
       "\n",
       "                                         DESCRIPTION  PRODUCT_TYPE_ID   \n",
       "0                                                NaN             1650  \\\n",
       "1                                                NaN             2755   \n",
       "2  Specifications: Color: Red, Material: Aluminiu...             7537   \n",
       "3  AISHAH Women's Lycra Cotton Ankel Leggings. Br...             2996   \n",
       "4                                                NaN             6112   \n",
       "\n",
       "   PRODUCT_LENGTH  \n",
       "0     2125.980000  \n",
       "1      393.700000  \n",
       "2      748.031495  \n",
       "3      787.401574  \n",
       "4      598.424000  "
      ]
     },
     "execution_count": 2,
     "metadata": {},
     "output_type": "execute_result"
    }
   ],
   "source": [
    "df = pd.read_csv(\"./dataset/train.csv\")\n",
    "df.head()"
   ]
  },
  {
   "cell_type": "code",
   "execution_count": 3,
   "id": "030a1c44-640c-4dce-abe1-b5aa4f896fa2",
   "metadata": {},
   "outputs": [
    {
     "data": {
      "text/plain": [
       "'ArtzFolio Tulip Flowers Blackout Curtain for Door, Window & Room | Eyelets & Tie Back | Canvas Fabric | Width 4.5feet (54inch) Height 5 feet (60 inch); Set of 2 PCS'"
      ]
     },
     "execution_count": 3,
     "metadata": {},
     "output_type": "execute_result"
    }
   ],
   "source": [
    "df.iloc[0].TITLE"
   ]
  },
  {
   "cell_type": "code",
   "execution_count": 4,
   "id": "53203d23-a437-408f-8149-1325ff91a28a",
   "metadata": {
    "tags": []
   },
   "outputs": [
    {
     "data": {
      "text/plain": [
       "'[Harry Potter Hedwig Pyjamas (6-16 Yrs),100% cotton (exclusive of trimmings),Ribbing - 98% cotton, 2% elastane]'"
      ]
     },
     "execution_count": 4,
     "metadata": {},
     "output_type": "execute_result"
    }
   ],
   "source": [
    "df.iloc[1].BULLET_POINTS"
   ]
  },
  {
   "cell_type": "code",
   "execution_count": 5,
   "id": "8c53be15-3f68-48de-a38b-b5e10781bc7a",
   "metadata": {
    "tags": []
   },
   "outputs": [
    {
     "data": {
      "text/plain": [
       "'Specifications: Color: Red, Material: Aluminium, Voltage: 12V, dB: 130 dB (around), Material: Aluminum Pump Head + Steel Pump Body + ABS Shell and Parts DB output: 130db Voltage: 12v Sound Type: Dual Tone Application: 12V Voltage Vehicles With Battery Above 20A Package included: 1 x Dual Tone Air Horn Compatible With SX4'"
      ]
     },
     "execution_count": 5,
     "metadata": {},
     "output_type": "execute_result"
    }
   ],
   "source": [
    "df.iloc[2].DESCRIPTION"
   ]
  },
  {
   "cell_type": "code",
   "execution_count": 6,
   "id": "88ade902-2594-4931-98f0-ecdc09c4a8b9",
   "metadata": {
    "tags": []
   },
   "outputs": [
    {
     "data": {
      "text/plain": [
       "PRODUCT_ID          0.000000\n",
       "TITLE               0.000578\n",
       "BULLET_POINTS      37.221263\n",
       "DESCRIPTION        51.446105\n",
       "PRODUCT_TYPE_ID     0.000000\n",
       "PRODUCT_LENGTH      0.000000\n",
       "dtype: float64"
      ]
     },
     "execution_count": 6,
     "metadata": {},
     "output_type": "execute_result"
    }
   ],
   "source": [
    "df.isna().sum()/len(df)*100"
   ]
  },
  {
   "cell_type": "code",
   "execution_count": 17,
   "id": "4f366fe0-a971-417f-a84b-39094b78848c",
   "metadata": {},
   "outputs": [],
   "source": [
    "def fill_null(row):\n",
    "    if not pd.isna(row.DESCRIPTION):\n",
    "        return row.DESCRIPTION\n",
    "    elif not pd.isna(row.BULLET_POINTS):\n",
    "        return row.BULLET_POINTS\n",
    "    else:\n",
    "        return row.TITLE"
   ]
  },
  {
   "cell_type": "code",
   "execution_count": 18,
   "id": "57929093-f785-482b-aabc-fa857ec7a6f2",
   "metadata": {
    "tags": []
   },
   "outputs": [],
   "source": [
    "df[\"DESCRIPTION\"] = [fill_null(row) for index,row in df.iterrows()]"
   ]
  },
  {
   "cell_type": "code",
   "execution_count": 19,
   "id": "d45f6580-cb48-4ccd-9d67-529514290431",
   "metadata": {
    "tags": []
   },
   "outputs": [
    {
     "data": {
      "text/plain": [
       "PRODUCT_ID              0\n",
       "TITLE                  13\n",
       "BULLET_POINTS      837366\n",
       "DESCRIPTION            11\n",
       "PRODUCT_TYPE_ID         0\n",
       "PRODUCT_LENGTH          0\n",
       "dtype: int64"
      ]
     },
     "execution_count": 19,
     "metadata": {},
     "output_type": "execute_result"
    }
   ],
   "source": [
    "df.isna().sum()"
   ]
  },
  {
   "cell_type": "code",
   "execution_count": 20,
   "id": "28126e15-86d9-4ca4-a25e-1a2316bacd93",
   "metadata": {
    "tags": []
   },
   "outputs": [],
   "source": [
    "df.drop(\"BULLET_POINTS\",axis=1,inplace=True)"
   ]
  },
  {
   "cell_type": "code",
   "execution_count": 21,
   "id": "e480c0a2-73a2-4ef3-9a55-a1b057c7b0f7",
   "metadata": {
    "tags": []
   },
   "outputs": [
    {
     "data": {
      "text/html": [
       "<div>\n",
       "<style scoped>\n",
       "    .dataframe tbody tr th:only-of-type {\n",
       "        vertical-align: middle;\n",
       "    }\n",
       "\n",
       "    .dataframe tbody tr th {\n",
       "        vertical-align: top;\n",
       "    }\n",
       "\n",
       "    .dataframe thead th {\n",
       "        text-align: right;\n",
       "    }\n",
       "</style>\n",
       "<table border=\"1\" class=\"dataframe\">\n",
       "  <thead>\n",
       "    <tr style=\"text-align: right;\">\n",
       "      <th></th>\n",
       "      <th>PRODUCT_ID</th>\n",
       "      <th>TITLE</th>\n",
       "      <th>DESCRIPTION</th>\n",
       "      <th>PRODUCT_TYPE_ID</th>\n",
       "      <th>PRODUCT_LENGTH</th>\n",
       "    </tr>\n",
       "  </thead>\n",
       "  <tbody>\n",
       "    <tr>\n",
       "      <th>0</th>\n",
       "      <td>1925202</td>\n",
       "      <td>ArtzFolio Tulip Flowers Blackout Curtain for D...</td>\n",
       "      <td>[LUXURIOUS &amp; APPEALING: Beautiful custom-made ...</td>\n",
       "      <td>1650</td>\n",
       "      <td>2125.980000</td>\n",
       "    </tr>\n",
       "    <tr>\n",
       "      <th>1</th>\n",
       "      <td>2673191</td>\n",
       "      <td>Marks &amp; Spencer Girls' Pyjama Sets T86_2561C_N...</td>\n",
       "      <td>[Harry Potter Hedwig Pyjamas (6-16 Yrs),100% c...</td>\n",
       "      <td>2755</td>\n",
       "      <td>393.700000</td>\n",
       "    </tr>\n",
       "    <tr>\n",
       "      <th>2</th>\n",
       "      <td>2765088</td>\n",
       "      <td>PRIKNIK Horn Red Electric Air Horn Compressor ...</td>\n",
       "      <td>Specifications: Color: Red, Material: Aluminiu...</td>\n",
       "      <td>7537</td>\n",
       "      <td>748.031495</td>\n",
       "    </tr>\n",
       "    <tr>\n",
       "      <th>3</th>\n",
       "      <td>1594019</td>\n",
       "      <td>ALISHAH Women's Cotton Ankle Length Leggings C...</td>\n",
       "      <td>AISHAH Women's Lycra Cotton Ankel Leggings. Br...</td>\n",
       "      <td>2996</td>\n",
       "      <td>787.401574</td>\n",
       "    </tr>\n",
       "    <tr>\n",
       "      <th>4</th>\n",
       "      <td>283658</td>\n",
       "      <td>The United Empire Loyalists: A Chronicle of th...</td>\n",
       "      <td>The United Empire Loyalists: A Chronicle of th...</td>\n",
       "      <td>6112</td>\n",
       "      <td>598.424000</td>\n",
       "    </tr>\n",
       "  </tbody>\n",
       "</table>\n",
       "</div>"
      ],
      "text/plain": [
       "   PRODUCT_ID                                              TITLE   \n",
       "0     1925202  ArtzFolio Tulip Flowers Blackout Curtain for D...  \\\n",
       "1     2673191  Marks & Spencer Girls' Pyjama Sets T86_2561C_N...   \n",
       "2     2765088  PRIKNIK Horn Red Electric Air Horn Compressor ...   \n",
       "3     1594019  ALISHAH Women's Cotton Ankle Length Leggings C...   \n",
       "4      283658  The United Empire Loyalists: A Chronicle of th...   \n",
       "\n",
       "                                         DESCRIPTION  PRODUCT_TYPE_ID   \n",
       "0  [LUXURIOUS & APPEALING: Beautiful custom-made ...             1650  \\\n",
       "1  [Harry Potter Hedwig Pyjamas (6-16 Yrs),100% c...             2755   \n",
       "2  Specifications: Color: Red, Material: Aluminiu...             7537   \n",
       "3  AISHAH Women's Lycra Cotton Ankel Leggings. Br...             2996   \n",
       "4  The United Empire Loyalists: A Chronicle of th...             6112   \n",
       "\n",
       "   PRODUCT_LENGTH  \n",
       "0     2125.980000  \n",
       "1      393.700000  \n",
       "2      748.031495  \n",
       "3      787.401574  \n",
       "4      598.424000  "
      ]
     },
     "execution_count": 21,
     "metadata": {},
     "output_type": "execute_result"
    }
   ],
   "source": [
    "df.head()"
   ]
  },
  {
   "cell_type": "code",
   "execution_count": 25,
   "id": "565fb990-7f8a-46c7-b076-077e2692f52b",
   "metadata": {
    "tags": []
   },
   "outputs": [
    {
     "name": "stdout",
     "output_type": "stream",
     "text": [
      "<class 'pandas.core.frame.DataFrame'>\n",
      "RangeIndex: 2249698 entries, 0 to 2249697\n",
      "Data columns (total 5 columns):\n",
      " #   Column           Dtype  \n",
      "---  ------           -----  \n",
      " 0   PRODUCT_ID       int64  \n",
      " 1   TITLE            object \n",
      " 2   DESCRIPTION      object \n",
      " 3   PRODUCT_TYPE_ID  int64  \n",
      " 4   PRODUCT_LENGTH   float64\n",
      "dtypes: float64(1), int64(2), object(2)\n",
      "memory usage: 85.8+ MB\n"
     ]
    }
   ],
   "source": [
    "df.info()"
   ]
  },
  {
   "cell_type": "code",
   "execution_count": 27,
   "id": "ff82aea8-f24f-4189-b415-4a87955909cc",
   "metadata": {
    "tags": []
   },
   "outputs": [
    {
     "data": {
      "text/plain": [
       "2999999"
      ]
     },
     "execution_count": 27,
     "metadata": {},
     "output_type": "execute_result"
    }
   ],
   "source": [
    "df.PRODUCT_ID.max()"
   ]
  },
  {
   "cell_type": "code",
   "execution_count": 28,
   "id": "bd35a86c-38b8-43a0-810f-77079e7b8e76",
   "metadata": {
    "tags": []
   },
   "outputs": [
    {
     "data": {
      "text/plain": [
       "13420"
      ]
     },
     "execution_count": 28,
     "metadata": {},
     "output_type": "execute_result"
    }
   ],
   "source": [
    "df.PRODUCT_TYPE_ID.max()"
   ]
  },
  {
   "cell_type": "code",
   "execution_count": 34,
   "id": "f49b80c2-dba0-466f-879e-9a92115b5f24",
   "metadata": {
    "tags": []
   },
   "outputs": [
    {
     "data": {
      "text/plain": [
       "1885801400.0"
      ]
     },
     "execution_count": 34,
     "metadata": {},
     "output_type": "execute_result"
    }
   ],
   "source": [
    "df.PRODUCT_LENGTH.max()"
   ]
  },
  {
   "cell_type": "code",
   "execution_count": 35,
   "id": "dd01b342-5520-4656-8c4d-5819d7d582d8",
   "metadata": {
    "tags": []
   },
   "outputs": [],
   "source": [
    "df = df.astype({\"PRODUCT_ID\":\"int32\",\"PRODUCT_TYPE_ID\":\"int16\"})"
   ]
  },
  {
   "cell_type": "code",
   "execution_count": 36,
   "id": "f5675a70-4104-49b1-a8a8-052905c8016f",
   "metadata": {
    "tags": []
   },
   "outputs": [
    {
     "data": {
      "text/plain": [
       "PRODUCT_ID           int32\n",
       "TITLE               object\n",
       "DESCRIPTION         object\n",
       "PRODUCT_TYPE_ID      int16\n",
       "PRODUCT_LENGTH     float64\n",
       "dtype: object"
      ]
     },
     "execution_count": 36,
     "metadata": {},
     "output_type": "execute_result"
    }
   ],
   "source": [
    "df.dtypes"
   ]
  },
  {
   "cell_type": "code",
   "execution_count": 37,
   "id": "d3c47b9a-96b9-4ff3-8ae2-8b17baffb322",
   "metadata": {
    "tags": []
   },
   "outputs": [],
   "source": [
    "p_id = df[\"PRODUCT_ID\"]"
   ]
  },
  {
   "cell_type": "code",
   "execution_count": 38,
   "id": "c86c7079-bb43-4079-8fe7-b560435c4b8d",
   "metadata": {
    "tags": []
   },
   "outputs": [],
   "source": [
    "df.drop(\"PRODUCT_ID\",axis=1,inplace=True)"
   ]
  },
  {
   "cell_type": "code",
   "execution_count": 39,
   "id": "02289a3b-2e08-4a77-8413-d07d85e6765c",
   "metadata": {
    "tags": []
   },
   "outputs": [
    {
     "data": {
      "text/html": [
       "<div>\n",
       "<style scoped>\n",
       "    .dataframe tbody tr th:only-of-type {\n",
       "        vertical-align: middle;\n",
       "    }\n",
       "\n",
       "    .dataframe tbody tr th {\n",
       "        vertical-align: top;\n",
       "    }\n",
       "\n",
       "    .dataframe thead th {\n",
       "        text-align: right;\n",
       "    }\n",
       "</style>\n",
       "<table border=\"1\" class=\"dataframe\">\n",
       "  <thead>\n",
       "    <tr style=\"text-align: right;\">\n",
       "      <th></th>\n",
       "      <th>TITLE</th>\n",
       "      <th>DESCRIPTION</th>\n",
       "      <th>PRODUCT_TYPE_ID</th>\n",
       "      <th>PRODUCT_LENGTH</th>\n",
       "    </tr>\n",
       "  </thead>\n",
       "  <tbody>\n",
       "    <tr>\n",
       "      <th>0</th>\n",
       "      <td>ArtzFolio Tulip Flowers Blackout Curtain for D...</td>\n",
       "      <td>[LUXURIOUS &amp; APPEALING: Beautiful custom-made ...</td>\n",
       "      <td>1650</td>\n",
       "      <td>2125.980000</td>\n",
       "    </tr>\n",
       "    <tr>\n",
       "      <th>1</th>\n",
       "      <td>Marks &amp; Spencer Girls' Pyjama Sets T86_2561C_N...</td>\n",
       "      <td>[Harry Potter Hedwig Pyjamas (6-16 Yrs),100% c...</td>\n",
       "      <td>2755</td>\n",
       "      <td>393.700000</td>\n",
       "    </tr>\n",
       "    <tr>\n",
       "      <th>2</th>\n",
       "      <td>PRIKNIK Horn Red Electric Air Horn Compressor ...</td>\n",
       "      <td>Specifications: Color: Red, Material: Aluminiu...</td>\n",
       "      <td>7537</td>\n",
       "      <td>748.031495</td>\n",
       "    </tr>\n",
       "    <tr>\n",
       "      <th>3</th>\n",
       "      <td>ALISHAH Women's Cotton Ankle Length Leggings C...</td>\n",
       "      <td>AISHAH Women's Lycra Cotton Ankel Leggings. Br...</td>\n",
       "      <td>2996</td>\n",
       "      <td>787.401574</td>\n",
       "    </tr>\n",
       "    <tr>\n",
       "      <th>4</th>\n",
       "      <td>The United Empire Loyalists: A Chronicle of th...</td>\n",
       "      <td>The United Empire Loyalists: A Chronicle of th...</td>\n",
       "      <td>6112</td>\n",
       "      <td>598.424000</td>\n",
       "    </tr>\n",
       "  </tbody>\n",
       "</table>\n",
       "</div>"
      ],
      "text/plain": [
       "                                               TITLE   \n",
       "0  ArtzFolio Tulip Flowers Blackout Curtain for D...  \\\n",
       "1  Marks & Spencer Girls' Pyjama Sets T86_2561C_N...   \n",
       "2  PRIKNIK Horn Red Electric Air Horn Compressor ...   \n",
       "3  ALISHAH Women's Cotton Ankle Length Leggings C...   \n",
       "4  The United Empire Loyalists: A Chronicle of th...   \n",
       "\n",
       "                                         DESCRIPTION  PRODUCT_TYPE_ID   \n",
       "0  [LUXURIOUS & APPEALING: Beautiful custom-made ...             1650  \\\n",
       "1  [Harry Potter Hedwig Pyjamas (6-16 Yrs),100% c...             2755   \n",
       "2  Specifications: Color: Red, Material: Aluminiu...             7537   \n",
       "3  AISHAH Women's Lycra Cotton Ankel Leggings. Br...             2996   \n",
       "4  The United Empire Loyalists: A Chronicle of th...             6112   \n",
       "\n",
       "   PRODUCT_LENGTH  \n",
       "0     2125.980000  \n",
       "1      393.700000  \n",
       "2      748.031495  \n",
       "3      787.401574  \n",
       "4      598.424000  "
      ]
     },
     "execution_count": 39,
     "metadata": {},
     "output_type": "execute_result"
    }
   ],
   "source": [
    "df.head()"
   ]
  },
  {
   "cell_type": "code",
   "execution_count": 40,
   "id": "27f36069-17c5-4c99-be82-14c7dcef3962",
   "metadata": {
    "tags": []
   },
   "outputs": [],
   "source": [
    "df.dropna(inplace=True)"
   ]
  },
  {
   "cell_type": "code",
   "execution_count": 42,
   "id": "5018ecd8-ad6d-4bf1-bfd2-a5a950ad2022",
   "metadata": {
    "tags": []
   },
   "outputs": [
    {
     "data": {
      "text/html": [
       "<div>\n",
       "<style scoped>\n",
       "    .dataframe tbody tr th:only-of-type {\n",
       "        vertical-align: middle;\n",
       "    }\n",
       "\n",
       "    .dataframe tbody tr th {\n",
       "        vertical-align: top;\n",
       "    }\n",
       "\n",
       "    .dataframe thead th {\n",
       "        text-align: right;\n",
       "    }\n",
       "</style>\n",
       "<table border=\"1\" class=\"dataframe\">\n",
       "  <thead>\n",
       "    <tr style=\"text-align: right;\">\n",
       "      <th></th>\n",
       "      <th>TITLE</th>\n",
       "      <th>DESCRIPTION</th>\n",
       "      <th>PRODUCT_TYPE_ID</th>\n",
       "      <th>PRODUCT_LENGTH</th>\n",
       "    </tr>\n",
       "  </thead>\n",
       "  <tbody>\n",
       "    <tr>\n",
       "      <th>0</th>\n",
       "      <td>ArtzFolio Tulip Flowers Blackout Curtain for D...</td>\n",
       "      <td>[LUXURIOUS &amp; APPEALING: Beautiful custom-made ...</td>\n",
       "      <td>1650</td>\n",
       "      <td>2125.980000</td>\n",
       "    </tr>\n",
       "    <tr>\n",
       "      <th>1</th>\n",
       "      <td>Marks &amp; Spencer Girls' Pyjama Sets T86_2561C_N...</td>\n",
       "      <td>[Harry Potter Hedwig Pyjamas (6-16 Yrs),100% c...</td>\n",
       "      <td>2755</td>\n",
       "      <td>393.700000</td>\n",
       "    </tr>\n",
       "    <tr>\n",
       "      <th>2</th>\n",
       "      <td>PRIKNIK Horn Red Electric Air Horn Compressor ...</td>\n",
       "      <td>Specifications: Color: Red, Material: Aluminiu...</td>\n",
       "      <td>7537</td>\n",
       "      <td>748.031495</td>\n",
       "    </tr>\n",
       "    <tr>\n",
       "      <th>3</th>\n",
       "      <td>ALISHAH Women's Cotton Ankle Length Leggings C...</td>\n",
       "      <td>AISHAH Women's Lycra Cotton Ankel Leggings. Br...</td>\n",
       "      <td>2996</td>\n",
       "      <td>787.401574</td>\n",
       "    </tr>\n",
       "    <tr>\n",
       "      <th>4</th>\n",
       "      <td>The United Empire Loyalists: A Chronicle of th...</td>\n",
       "      <td>The United Empire Loyalists: A Chronicle of th...</td>\n",
       "      <td>6112</td>\n",
       "      <td>598.424000</td>\n",
       "    </tr>\n",
       "  </tbody>\n",
       "</table>\n",
       "</div>"
      ],
      "text/plain": [
       "                                               TITLE   \n",
       "0  ArtzFolio Tulip Flowers Blackout Curtain for D...  \\\n",
       "1  Marks & Spencer Girls' Pyjama Sets T86_2561C_N...   \n",
       "2  PRIKNIK Horn Red Electric Air Horn Compressor ...   \n",
       "3  ALISHAH Women's Cotton Ankle Length Leggings C...   \n",
       "4  The United Empire Loyalists: A Chronicle of th...   \n",
       "\n",
       "                                         DESCRIPTION  PRODUCT_TYPE_ID   \n",
       "0  [LUXURIOUS & APPEALING: Beautiful custom-made ...             1650  \\\n",
       "1  [Harry Potter Hedwig Pyjamas (6-16 Yrs),100% c...             2755   \n",
       "2  Specifications: Color: Red, Material: Aluminiu...             7537   \n",
       "3  AISHAH Women's Lycra Cotton Ankel Leggings. Br...             2996   \n",
       "4  The United Empire Loyalists: A Chronicle of th...             6112   \n",
       "\n",
       "   PRODUCT_LENGTH  \n",
       "0     2125.980000  \n",
       "1      393.700000  \n",
       "2      748.031495  \n",
       "3      787.401574  \n",
       "4      598.424000  "
      ]
     },
     "execution_count": 42,
     "metadata": {},
     "output_type": "execute_result"
    }
   ],
   "source": [
    "df.head()"
   ]
  },
  {
   "cell_type": "code",
   "execution_count": 43,
   "id": "9497f156-4166-4eaf-b76e-600d109361ad",
   "metadata": {
    "tags": []
   },
   "outputs": [
    {
     "data": {
      "text/plain": [
       "TITLE              0\n",
       "DESCRIPTION        0\n",
       "PRODUCT_TYPE_ID    0\n",
       "PRODUCT_LENGTH     0\n",
       "dtype: int64"
      ]
     },
     "execution_count": 43,
     "metadata": {},
     "output_type": "execute_result"
    }
   ],
   "source": [
    "df.isna().sum()"
   ]
  },
  {
   "cell_type": "code",
   "execution_count": 48,
   "id": "a9b76478-baed-4f50-8f53-01dce2398bca",
   "metadata": {
    "tags": []
   },
   "outputs": [],
   "source": [
    "df.reset_index(inplace=True)"
   ]
  },
  {
   "cell_type": "code",
   "execution_count": 49,
   "id": "2016051f-83ec-47e2-a1d1-18f7bb486bda",
   "metadata": {
    "tags": []
   },
   "outputs": [],
   "source": [
    "df.drop(\"index\",axis=1,inplace=True)"
   ]
  },
  {
   "cell_type": "code",
   "execution_count": 50,
   "id": "92a356c4-60d5-447a-b3bd-b3fec4f4c1b5",
   "metadata": {
    "tags": []
   },
   "outputs": [
    {
     "data": {
      "text/html": [
       "<div>\n",
       "<style scoped>\n",
       "    .dataframe tbody tr th:only-of-type {\n",
       "        vertical-align: middle;\n",
       "    }\n",
       "\n",
       "    .dataframe tbody tr th {\n",
       "        vertical-align: top;\n",
       "    }\n",
       "\n",
       "    .dataframe thead th {\n",
       "        text-align: right;\n",
       "    }\n",
       "</style>\n",
       "<table border=\"1\" class=\"dataframe\">\n",
       "  <thead>\n",
       "    <tr style=\"text-align: right;\">\n",
       "      <th></th>\n",
       "      <th>TITLE</th>\n",
       "      <th>DESCRIPTION</th>\n",
       "      <th>PRODUCT_TYPE_ID</th>\n",
       "      <th>PRODUCT_LENGTH</th>\n",
       "    </tr>\n",
       "  </thead>\n",
       "  <tbody>\n",
       "    <tr>\n",
       "      <th>0</th>\n",
       "      <td>ArtzFolio Tulip Flowers Blackout Curtain for D...</td>\n",
       "      <td>[LUXURIOUS &amp; APPEALING: Beautiful custom-made ...</td>\n",
       "      <td>1650</td>\n",
       "      <td>2125.980000</td>\n",
       "    </tr>\n",
       "    <tr>\n",
       "      <th>1</th>\n",
       "      <td>Marks &amp; Spencer Girls' Pyjama Sets T86_2561C_N...</td>\n",
       "      <td>[Harry Potter Hedwig Pyjamas (6-16 Yrs),100% c...</td>\n",
       "      <td>2755</td>\n",
       "      <td>393.700000</td>\n",
       "    </tr>\n",
       "    <tr>\n",
       "      <th>2</th>\n",
       "      <td>PRIKNIK Horn Red Electric Air Horn Compressor ...</td>\n",
       "      <td>Specifications: Color: Red, Material: Aluminiu...</td>\n",
       "      <td>7537</td>\n",
       "      <td>748.031495</td>\n",
       "    </tr>\n",
       "    <tr>\n",
       "      <th>3</th>\n",
       "      <td>ALISHAH Women's Cotton Ankle Length Leggings C...</td>\n",
       "      <td>AISHAH Women's Lycra Cotton Ankel Leggings. Br...</td>\n",
       "      <td>2996</td>\n",
       "      <td>787.401574</td>\n",
       "    </tr>\n",
       "    <tr>\n",
       "      <th>4</th>\n",
       "      <td>The United Empire Loyalists: A Chronicle of th...</td>\n",
       "      <td>The United Empire Loyalists: A Chronicle of th...</td>\n",
       "      <td>6112</td>\n",
       "      <td>598.424000</td>\n",
       "    </tr>\n",
       "  </tbody>\n",
       "</table>\n",
       "</div>"
      ],
      "text/plain": [
       "                                               TITLE   \n",
       "0  ArtzFolio Tulip Flowers Blackout Curtain for D...  \\\n",
       "1  Marks & Spencer Girls' Pyjama Sets T86_2561C_N...   \n",
       "2  PRIKNIK Horn Red Electric Air Horn Compressor ...   \n",
       "3  ALISHAH Women's Cotton Ankle Length Leggings C...   \n",
       "4  The United Empire Loyalists: A Chronicle of th...   \n",
       "\n",
       "                                         DESCRIPTION  PRODUCT_TYPE_ID   \n",
       "0  [LUXURIOUS & APPEALING: Beautiful custom-made ...             1650  \\\n",
       "1  [Harry Potter Hedwig Pyjamas (6-16 Yrs),100% c...             2755   \n",
       "2  Specifications: Color: Red, Material: Aluminiu...             7537   \n",
       "3  AISHAH Women's Lycra Cotton Ankel Leggings. Br...             2996   \n",
       "4  The United Empire Loyalists: A Chronicle of th...             6112   \n",
       "\n",
       "   PRODUCT_LENGTH  \n",
       "0     2125.980000  \n",
       "1      393.700000  \n",
       "2      748.031495  \n",
       "3      787.401574  \n",
       "4      598.424000  "
      ]
     },
     "execution_count": 50,
     "metadata": {},
     "output_type": "execute_result"
    }
   ],
   "source": [
    "df.head()"
   ]
  },
  {
   "cell_type": "code",
   "execution_count": 52,
   "id": "94ea8443-25fe-431d-bd4b-c2dbff4ecfbd",
   "metadata": {
    "tags": []
   },
   "outputs": [],
   "source": [
    "df.to_feather(\"cleaned.feather\")"
   ]
  },
  {
   "cell_type": "code",
   "execution_count": null,
   "id": "35f3f056-87ce-456e-bf86-b078d4875360",
   "metadata": {},
   "outputs": [],
   "source": []
  }
 ],
 "metadata": {
  "kernelspec": {
   "display_name": "Python 3 (ipykernel)",
   "language": "python",
   "name": "python3"
  },
  "language_info": {
   "codemirror_mode": {
    "name": "ipython",
    "version": 3
   },
   "file_extension": ".py",
   "mimetype": "text/x-python",
   "name": "python",
   "nbconvert_exporter": "python",
   "pygments_lexer": "ipython3",
   "version": "3.8.2"
  }
 },
 "nbformat": 4,
 "nbformat_minor": 5
}
