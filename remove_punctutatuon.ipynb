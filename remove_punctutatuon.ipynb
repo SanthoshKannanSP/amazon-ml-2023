{
 "cells": [
  {
   "cell_type": "code",
   "execution_count": 1,
   "id": "050d6f81-603e-49bc-8586-7b6772306aa8",
   "metadata": {
    "tags": []
   },
   "outputs": [],
   "source": [
    "import pandas as pd\n",
    "import string"
   ]
  },
  {
   "cell_type": "code",
   "execution_count": 2,
   "id": "5187d5fd-76d9-410d-93f4-05daeaccf265",
   "metadata": {
    "tags": []
   },
   "outputs": [],
   "source": [
    "df = pd.read_feather(\"cleaned.feather\")"
   ]
  },
  {
   "cell_type": "code",
   "execution_count": 4,
   "id": "9d2cc170-1c39-4967-9a41-9f72d68e2f1a",
   "metadata": {
    "tags": []
   },
   "outputs": [
    {
     "data": {
      "text/plain": [
       "TITLE              0\n",
       "DESCRIPTION        0\n",
       "PRODUCT_TYPE_ID    0\n",
       "PRODUCT_LENGTH     0\n",
       "dtype: int64"
      ]
     },
     "execution_count": 4,
     "metadata": {},
     "output_type": "execute_result"
    }
   ],
   "source": [
    "df.isna().sum()"
   ]
  },
  {
   "cell_type": "code",
   "execution_count": 5,
   "id": "0d99432d-62ee-4959-a212-f2fc3b6d0063",
   "metadata": {
    "tags": []
   },
   "outputs": [],
   "source": [
    "import matplotlib.pyplot as plt"
   ]
  },
  {
   "cell_type": "code",
   "execution_count": 6,
   "id": "bee97087-c9a7-4a28-b3b0-3f8e0e8b4d0c",
   "metadata": {
    "tags": []
   },
   "outputs": [],
   "source": [
    "count = [len(df[df[\"PRODUCT_TYPE_ID\"]==i]) for i in df.PRODUCT_TYPE_ID.unique()]"
   ]
  },
  {
   "cell_type": "code",
   "execution_count": 7,
   "id": "f7c1a655-9fa7-4e5a-a100-84f4d5816bf5",
   "metadata": {
    "tags": []
   },
   "outputs": [
    {
     "data": {
      "text/html": [
       "<div>\n",
       "<style scoped>\n",
       "    .dataframe tbody tr th:only-of-type {\n",
       "        vertical-align: middle;\n",
       "    }\n",
       "\n",
       "    .dataframe tbody tr th {\n",
       "        vertical-align: top;\n",
       "    }\n",
       "\n",
       "    .dataframe thead th {\n",
       "        text-align: right;\n",
       "    }\n",
       "</style>\n",
       "<table border=\"1\" class=\"dataframe\">\n",
       "  <thead>\n",
       "    <tr style=\"text-align: right;\">\n",
       "      <th></th>\n",
       "      <th>TITLE</th>\n",
       "      <th>DESCRIPTION</th>\n",
       "      <th>PRODUCT_TYPE_ID</th>\n",
       "      <th>PRODUCT_LENGTH</th>\n",
       "    </tr>\n",
       "  </thead>\n",
       "  <tbody>\n",
       "    <tr>\n",
       "      <th>0</th>\n",
       "      <td>ArtzFolio Tulip Flowers Blackout Curtain for D...</td>\n",
       "      <td>[LUXURIOUS &amp; APPEALING: Beautiful custom-made ...</td>\n",
       "      <td>1650</td>\n",
       "      <td>2125.980000</td>\n",
       "    </tr>\n",
       "    <tr>\n",
       "      <th>1</th>\n",
       "      <td>Marks &amp; Spencer Girls' Pyjama Sets T86_2561C_N...</td>\n",
       "      <td>[Harry Potter Hedwig Pyjamas (6-16 Yrs),100% c...</td>\n",
       "      <td>2755</td>\n",
       "      <td>393.700000</td>\n",
       "    </tr>\n",
       "    <tr>\n",
       "      <th>2</th>\n",
       "      <td>PRIKNIK Horn Red Electric Air Horn Compressor ...</td>\n",
       "      <td>Specifications: Color: Red, Material: Aluminiu...</td>\n",
       "      <td>7537</td>\n",
       "      <td>748.031495</td>\n",
       "    </tr>\n",
       "    <tr>\n",
       "      <th>3</th>\n",
       "      <td>ALISHAH Women's Cotton Ankle Length Leggings C...</td>\n",
       "      <td>AISHAH Women's Lycra Cotton Ankel Leggings. Br...</td>\n",
       "      <td>2996</td>\n",
       "      <td>787.401574</td>\n",
       "    </tr>\n",
       "    <tr>\n",
       "      <th>4</th>\n",
       "      <td>The United Empire Loyalists: A Chronicle of th...</td>\n",
       "      <td>The United Empire Loyalists: A Chronicle of th...</td>\n",
       "      <td>6112</td>\n",
       "      <td>598.424000</td>\n",
       "    </tr>\n",
       "  </tbody>\n",
       "</table>\n",
       "</div>"
      ],
      "text/plain": [
       "                                               TITLE   \n",
       "0  ArtzFolio Tulip Flowers Blackout Curtain for D...  \\\n",
       "1  Marks & Spencer Girls' Pyjama Sets T86_2561C_N...   \n",
       "2  PRIKNIK Horn Red Electric Air Horn Compressor ...   \n",
       "3  ALISHAH Women's Cotton Ankle Length Leggings C...   \n",
       "4  The United Empire Loyalists: A Chronicle of th...   \n",
       "\n",
       "                                         DESCRIPTION  PRODUCT_TYPE_ID   \n",
       "0  [LUXURIOUS & APPEALING: Beautiful custom-made ...             1650  \\\n",
       "1  [Harry Potter Hedwig Pyjamas (6-16 Yrs),100% c...             2755   \n",
       "2  Specifications: Color: Red, Material: Aluminiu...             7537   \n",
       "3  AISHAH Women's Lycra Cotton Ankel Leggings. Br...             2996   \n",
       "4  The United Empire Loyalists: A Chronicle of th...             6112   \n",
       "\n",
       "   PRODUCT_LENGTH  \n",
       "0     2125.980000  \n",
       "1      393.700000  \n",
       "2      748.031495  \n",
       "3      787.401574  \n",
       "4      598.424000  "
      ]
     },
     "execution_count": 7,
     "metadata": {},
     "output_type": "execute_result"
    }
   ],
   "source": [
    "df.head()"
   ]
  },
  {
   "cell_type": "code",
   "execution_count": 3,
   "id": "9cfa2aab-5dd1-4ea6-9a44-3e5828240e51",
   "metadata": {
    "tags": []
   },
   "outputs": [],
   "source": [
    "punctuation_signs = list(\"?:!.,;:\")\n",
    "df['TITLE'] = df['TITLE'].str.replace(\"\\r\", \" \")\n",
    "df['TITLE'] = df['TITLE'].str.replace(\"\\n\", \" \")\n",
    "df['TITLE'] = df['TITLE'].str.replace(\"    \", \" \")\n",
    "df['TITLE'] = df['TITLE'].str.replace('\"', ' ')\n",
    "df['TITLE'] = df['TITLE'].str.lower()\n",
    "for punct_sign in punctuation_signs:\n",
    "    df['TITLE'] = df['TITLE'].str.replace(punct_sign, ' ')\n",
    "df['TITLE'] = df['TITLE'].str.replace(\"'s\", \" \")\n",
    "df['TITLE'] = df['TITLE'].str.replace(\"|\",\" \")\n",
    "df['TITLE'] = df['TITLE'].str.replace(\"'\",\" \")\n",
    "df['TITLE'] = df['TITLE'].str.replace(\",\",\" \")"
   ]
  },
  {
   "cell_type": "code",
   "execution_count": 4,
   "id": "7fe106f9-433f-459d-b3a2-425ea7c0f9f2",
   "metadata": {
    "tags": []
   },
   "outputs": [],
   "source": [
    "df[\"TITLE\"] = df[\"TITLE\"].str.replace(\"]\",\" \")"
   ]
  },
  {
   "cell_type": "code",
   "execution_count": 5,
   "id": "2b2f63e9-3932-45a5-a52a-d1f9add0e7dd",
   "metadata": {
    "tags": []
   },
   "outputs": [],
   "source": [
    "df['DESCRIPTION'] = df['DESCRIPTION'].str.replace(\"\\r\", \" \")"
   ]
  },
  {
   "cell_type": "code",
   "execution_count": 6,
   "id": "257d1493-7353-46d8-b041-09521574e132",
   "metadata": {
    "tags": []
   },
   "outputs": [],
   "source": [
    "df['DESCRIPTION'] = df['DESCRIPTION'].str.replace(\"\\n\", \" \")"
   ]
  },
  {
   "cell_type": "code",
   "execution_count": 7,
   "id": "d7039ad7-f782-4cee-b9aa-4bf5f102973c",
   "metadata": {
    "tags": []
   },
   "outputs": [],
   "source": [
    "df['DESCRIPTION'] = df['DESCRIPTION'].str.replace(\"    \", \" \")"
   ]
  },
  {
   "cell_type": "code",
   "execution_count": 8,
   "id": "b0ae0b81-c24e-48a4-b4c5-0f262c0699d5",
   "metadata": {
    "tags": []
   },
   "outputs": [],
   "source": [
    "df['DESCRIPTION'] = df['DESCRIPTION'].str.replace('\"', ' ')"
   ]
  },
  {
   "cell_type": "code",
   "execution_count": 9,
   "id": "984ea809-d7dd-4f60-96fa-ac39eb1543a8",
   "metadata": {
    "tags": []
   },
   "outputs": [],
   "source": [
    "df['DESCRIPTION'] = df['DESCRIPTION'].str.lower()"
   ]
  },
  {
   "cell_type": "code",
   "execution_count": 10,
   "id": "7b0162b9-5e37-4531-81ea-f8569c22cd8a",
   "metadata": {
    "tags": []
   },
   "outputs": [],
   "source": [
    "df['DESCRIPTION'] = df['DESCRIPTION'].str.replace(\"'s\", \" \")"
   ]
  },
  {
   "cell_type": "code",
   "execution_count": 11,
   "id": "0dab3ff4-5cbb-4be6-b633-12f58c589fed",
   "metadata": {
    "tags": []
   },
   "outputs": [],
   "source": [
    "df['DESCRIPTION'] = df['DESCRIPTION'].str.replace(\"|\",\" \")"
   ]
  },
  {
   "cell_type": "code",
   "execution_count": 12,
   "id": "aefe735c-cb80-4c83-9fca-72025d1d9497",
   "metadata": {
    "tags": []
   },
   "outputs": [],
   "source": [
    "df['DESCRIPTION'] = df['DESCRIPTION'].str.replace(\"'\",\" \")"
   ]
  },
  {
   "cell_type": "code",
   "execution_count": 13,
   "id": "25153def-08e9-4614-a7a3-245baae46e65",
   "metadata": {
    "tags": []
   },
   "outputs": [],
   "source": [
    "df['DESCRIPTION'] = df['DESCRIPTION'].str.replace(\",\",\" \")"
   ]
  },
  {
   "cell_type": "code",
   "execution_count": 14,
   "id": "18ce83b4-2473-4352-b1f2-cb057ad4978c",
   "metadata": {
    "tags": []
   },
   "outputs": [],
   "source": [
    "df[\"TITLE\"] = df[\"TITLE\"].str.replace(\"[\",\" \")"
   ]
  },
  {
   "cell_type": "code",
   "execution_count": 15,
   "id": "b5b1679f-2c7b-4d17-b8ca-31a4b5d51050",
   "metadata": {
    "tags": []
   },
   "outputs": [],
   "source": [
    "df[\"DESCRIPTION\"] = df[\"DESCRIPTION\"].str.replace(\"[\",\" \")"
   ]
  },
  {
   "cell_type": "code",
   "execution_count": 16,
   "id": "692c0511-f513-4b9b-a054-f51148f5d546",
   "metadata": {
    "tags": []
   },
   "outputs": [],
   "source": [
    "df[\"DESCRIPTION\"] = df[\"DESCRIPTION\"].str.replace(\"]\",\" \")"
   ]
  },
  {
   "cell_type": "code",
   "execution_count": 17,
   "id": "0ab383b4-cd6b-4bfc-870c-52c9324e0060",
   "metadata": {
    "tags": []
   },
   "outputs": [],
   "source": [
    "df[\"DESCRIPTION\"] = df[\"DESCRIPTION\"].str.replace(\"&\",\" \")"
   ]
  },
  {
   "cell_type": "code",
   "execution_count": 18,
   "id": "99ad82c3-598f-49ae-9f4b-061bab51a318",
   "metadata": {
    "tags": []
   },
   "outputs": [],
   "source": [
    "df[\"TITLE\"] = df[\"TITLE\"].str.replace(\"&\",\" \")"
   ]
  },
  {
   "cell_type": "code",
   "execution_count": 19,
   "id": "a207969b-6c84-4b16-8432-70cf2f26e60b",
   "metadata": {},
   "outputs": [
    {
     "data": {
      "text/html": [
       "<div>\n",
       "<style scoped>\n",
       "    .dataframe tbody tr th:only-of-type {\n",
       "        vertical-align: middle;\n",
       "    }\n",
       "\n",
       "    .dataframe tbody tr th {\n",
       "        vertical-align: top;\n",
       "    }\n",
       "\n",
       "    .dataframe thead th {\n",
       "        text-align: right;\n",
       "    }\n",
       "</style>\n",
       "<table border=\"1\" class=\"dataframe\">\n",
       "  <thead>\n",
       "    <tr style=\"text-align: right;\">\n",
       "      <th></th>\n",
       "      <th>TITLE</th>\n",
       "      <th>DESCRIPTION</th>\n",
       "      <th>PRODUCT_TYPE_ID</th>\n",
       "      <th>PRODUCT_LENGTH</th>\n",
       "    </tr>\n",
       "  </thead>\n",
       "  <tbody>\n",
       "    <tr>\n",
       "      <th>0</th>\n",
       "      <td>artzfolio tulip flowers blackout curtain for d...</td>\n",
       "      <td>luxurious   appealing: beautiful custom-made ...</td>\n",
       "      <td>1650</td>\n",
       "      <td>2125.980000</td>\n",
       "    </tr>\n",
       "    <tr>\n",
       "      <th>1</th>\n",
       "      <td>marks   spencer girls  pyjama sets t86_2561c_n...</td>\n",
       "      <td>harry potter hedwig pyjamas (6-16 yrs) 100% c...</td>\n",
       "      <td>2755</td>\n",
       "      <td>393.700000</td>\n",
       "    </tr>\n",
       "    <tr>\n",
       "      <th>2</th>\n",
       "      <td>priknik horn red electric air horn compressor ...</td>\n",
       "      <td>specifications: color: red  material: aluminiu...</td>\n",
       "      <td>7537</td>\n",
       "      <td>748.031495</td>\n",
       "    </tr>\n",
       "    <tr>\n",
       "      <th>3</th>\n",
       "      <td>alishah women  cotton ankle length leggings co...</td>\n",
       "      <td>aishah women  lycra cotton ankel leggings. bra...</td>\n",
       "      <td>2996</td>\n",
       "      <td>787.401574</td>\n",
       "    </tr>\n",
       "    <tr>\n",
       "      <th>4</th>\n",
       "      <td>the united empire loyalists  a chronicle of th...</td>\n",
       "      <td>the united empire loyalists: a chronicle of th...</td>\n",
       "      <td>6112</td>\n",
       "      <td>598.424000</td>\n",
       "    </tr>\n",
       "  </tbody>\n",
       "</table>\n",
       "</div>"
      ],
      "text/plain": [
       "                                               TITLE   \n",
       "0  artzfolio tulip flowers blackout curtain for d...  \\\n",
       "1  marks   spencer girls  pyjama sets t86_2561c_n...   \n",
       "2  priknik horn red electric air horn compressor ...   \n",
       "3  alishah women  cotton ankle length leggings co...   \n",
       "4  the united empire loyalists  a chronicle of th...   \n",
       "\n",
       "                                         DESCRIPTION  PRODUCT_TYPE_ID   \n",
       "0   luxurious   appealing: beautiful custom-made ...             1650  \\\n",
       "1   harry potter hedwig pyjamas (6-16 yrs) 100% c...             2755   \n",
       "2  specifications: color: red  material: aluminiu...             7537   \n",
       "3  aishah women  lycra cotton ankel leggings. bra...             2996   \n",
       "4  the united empire loyalists: a chronicle of th...             6112   \n",
       "\n",
       "   PRODUCT_LENGTH  \n",
       "0     2125.980000  \n",
       "1      393.700000  \n",
       "2      748.031495  \n",
       "3      787.401574  \n",
       "4      598.424000  "
      ]
     },
     "execution_count": 19,
     "metadata": {},
     "output_type": "execute_result"
    }
   ],
   "source": [
    "df.head()"
   ]
  },
  {
   "cell_type": "code",
   "execution_count": 20,
   "id": "4425684d-b7c8-446d-8310-84add5ee3b00",
   "metadata": {
    "tags": []
   },
   "outputs": [],
   "source": [
    "df.to_feather(\"cleaned_punctutation.feather\")"
   ]
  },
  {
   "cell_type": "code",
   "execution_count": 2,
   "id": "7bdbafb4-2ebb-4c33-b932-bfa4dc893ae4",
   "metadata": {},
   "outputs": [],
   "source": [
    "df = pd.read_feather(\"cleaned_punctutation.feather\")"
   ]
  },
  {
   "cell_type": "code",
   "execution_count": 3,
   "id": "37d5affb-8a0b-48a9-95e0-fc103314ae07",
   "metadata": {
    "tags": []
   },
   "outputs": [
    {
     "data": {
      "text/plain": [
       "'artzfolio tulip flowers blackout curtain for door  window   room   eyelets   tie back   canvas fabric   width 4 5feet (54inch) height 5 feet (60 inch)  set of 2 pcs'"
      ]
     },
     "execution_count": 3,
     "metadata": {},
     "output_type": "execute_result"
    }
   ],
   "source": [
    "df.iloc[0].TITLE"
   ]
  },
  {
   "cell_type": "code",
   "execution_count": 4,
   "id": "c6a2023f-1398-4a5b-8219-8c4bbb112246",
   "metadata": {
    "tags": []
   },
   "outputs": [],
   "source": [
    "punctuation_signs = list(\"?:!.,;:\")\n",
    "for punct_sign in punctuation_signs:\n",
    "    df['DESCRIPTION'] = df['DESCRIPTION'].str.replace(punct_sign, ' ')"
   ]
  },
  {
   "cell_type": "code",
   "execution_count": 5,
   "id": "1ac8e829-a514-4d08-ad34-5158f4d3d2ab",
   "metadata": {},
   "outputs": [],
   "source": [
    "df.to_feather(\"cleaned_punctutation.feather\")"
   ]
  },
  {
   "cell_type": "code",
   "execution_count": 2,
   "id": "f307daf2-a965-430f-948f-477706201b90",
   "metadata": {},
   "outputs": [],
   "source": [
    "df = pd.read_feather(\"cleaned_punctutation.feather\")"
   ]
  },
  {
   "cell_type": "code",
   "execution_count": 11,
   "id": "9ae297ae-0496-4782-8289-685331a758a3",
   "metadata": {
    "tags": []
   },
   "outputs": [],
   "source": [
    "df[\"TITLE\"] = df[\"TITLE\"].str.replace(\"  \",\" \")"
   ]
  },
  {
   "cell_type": "code",
   "execution_count": 12,
   "id": "b924a145-b020-4a8a-aa7d-e9ca2df153ff",
   "metadata": {
    "tags": []
   },
   "outputs": [],
   "source": [
    "df[\"DESCRIPTION\"] = df[\"DESCRIPTION\"].str.replace(\"  \",\" \")"
   ]
  },
  {
   "cell_type": "code",
   "execution_count": 13,
   "id": "79438382-0265-4817-8bb4-7770f2c4f30a",
   "metadata": {
    "tags": []
   },
   "outputs": [
    {
     "data": {
      "text/plain": [
       "' luxurious appealing beautiful custom-made curtains to decorate any home or office includes inbuilt tieback to hold the curtain completely finished and ready to hang on walls windows material luxurious versatile fabric with a natural finish high colour fastness state-of-the-art digital printing ensures colour consistency and prevents any fading eyelets cotton canvas width 4 5feet (54inch) multicolour package 2 room curtains eyelets size height 5 feet (60 inch) set of 2 pcs blackout curtain 100% opaque heavy premium cotton canvas fabric tight knitted long life durable fabric printing only on front side with a plain colour back side made to perfection large eyelets at the top to put hanging hooks perfectly tailored seams for durability refined stitching with a matching thread color quality assured gentle wash with similar colors in cold water avoid direct sunlight to prevent fading dispatched after multiple quality checks '"
      ]
     },
     "execution_count": 13,
     "metadata": {},
     "output_type": "execute_result"
    }
   ],
   "source": [
    "df.iloc[0].DESCRIPTION"
   ]
  },
  {
   "cell_type": "code",
   "execution_count": 15,
   "id": "44a026fa-88e2-4d85-98e7-51f1e41ce534",
   "metadata": {
    "tags": []
   },
   "outputs": [],
   "source": [
    "df.to_feather(\"cleaned_punctutation.feather\")"
   ]
  },
  {
   "cell_type": "code",
   "execution_count": null,
   "id": "827d8e03-904f-4093-8eb7-ea197b5ae8a5",
   "metadata": {},
   "outputs": [],
   "source": []
  }
 ],
 "metadata": {
  "kernelspec": {
   "display_name": "Python 3 (ipykernel)",
   "language": "python",
   "name": "python3"
  },
  "language_info": {
   "codemirror_mode": {
    "name": "ipython",
    "version": 3
   },
   "file_extension": ".py",
   "mimetype": "text/x-python",
   "name": "python",
   "nbconvert_exporter": "python",
   "pygments_lexer": "ipython3",
   "version": "3.8.2"
  }
 },
 "nbformat": 4,
 "nbformat_minor": 5
}
