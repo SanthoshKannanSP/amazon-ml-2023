{
 "cells": [
  {
   "cell_type": "code",
   "execution_count": 1,
   "id": "a056958f-60fd-4bd2-b03a-ba2b9b812ee6",
   "metadata": {
    "tags": []
   },
   "outputs": [],
   "source": [
    "import pandas as pd"
   ]
  },
  {
   "cell_type": "code",
   "execution_count": 2,
   "id": "9823031c-82d4-45a5-a738-3063039758f4",
   "metadata": {
    "tags": []
   },
   "outputs": [],
   "source": [
    "df = pd.read_feather(\"cleaned_punctutation.feather\")"
   ]
  },
  {
   "cell_type": "code",
   "execution_count": 3,
   "id": "61ba129d-6714-4d60-9edd-1d19632a9812",
   "metadata": {
    "tags": []
   },
   "outputs": [
    {
     "data": {
      "text/plain": [
       "'artzfolio tulip flowers blackout curtain for door window room eyelets tie back canvas fabric width 4 5feet (54inch) height 5 feet (60 inch) set of 2 pcs'"
      ]
     },
     "execution_count": 3,
     "metadata": {},
     "output_type": "execute_result"
    }
   ],
   "source": [
    "df.iloc[0].TITLE"
   ]
  },
  {
   "cell_type": "code",
   "execution_count": 4,
   "id": "4e26b353-88ae-49c3-8efe-6f7aaea6a297",
   "metadata": {},
   "outputs": [],
   "source": [
    "import nltk"
   ]
  },
  {
   "cell_type": "code",
   "execution_count": 5,
   "id": "26c4e0c8-2b3a-4225-816c-ae6ab971da77",
   "metadata": {
    "tags": []
   },
   "outputs": [
    {
     "name": "stderr",
     "output_type": "stream",
     "text": [
      "[nltk_data] Downloading package stopwords to\n",
      "[nltk_data]     /home/santhosh/nltk_data...\n",
      "[nltk_data]   Package stopwords is already up-to-date!\n"
     ]
    },
    {
     "data": {
      "text/plain": [
       "True"
      ]
     },
     "execution_count": 5,
     "metadata": {},
     "output_type": "execute_result"
    }
   ],
   "source": [
    "nltk.download('stopwords')"
   ]
  },
  {
   "cell_type": "code",
   "execution_count": 6,
   "id": "f031c0bd-5275-43b1-922a-3da3a7bb8c62",
   "metadata": {
    "tags": []
   },
   "outputs": [],
   "source": [
    "from nltk.corpus import stopwords"
   ]
  },
  {
   "cell_type": "code",
   "execution_count": 7,
   "id": "9908ea46-376e-4b11-a50d-f5c24a1d9b5a",
   "metadata": {
    "tags": []
   },
   "outputs": [],
   "source": [
    "stop = stopwords.words('english')"
   ]
  },
  {
   "cell_type": "code",
   "execution_count": 8,
   "id": "1725407a-627f-46b5-94db-d7531b0bac4e",
   "metadata": {
    "tags": []
   },
   "outputs": [],
   "source": [
    "for word in stop:\n",
    "    df['TITLE'] = df['TITLE'].str.replace(\" \"+word+\" \", '')"
   ]
  },
  {
   "cell_type": "code",
   "execution_count": 9,
   "id": "dcad1dda-55dc-4982-922e-97e635286e5d",
   "metadata": {
    "tags": []
   },
   "outputs": [
    {
     "data": {
      "text/plain": [
       "'artzfolio tulip flowers blackout curtaindoor window room eyelets tie back canvas fabric width 4 5feet (54inch) height 5 feet (60 inch) set2 pcs'"
      ]
     },
     "execution_count": 9,
     "metadata": {},
     "output_type": "execute_result"
    }
   ],
   "source": [
    "df.iloc[0].TITLE"
   ]
  },
  {
   "cell_type": "code",
   "execution_count": 10,
   "id": "76bdb52e-7e1d-480c-a06c-646850a1e666",
   "metadata": {
    "tags": []
   },
   "outputs": [],
   "source": [
    "df.to_feather(\"cleaned_stop_words.feather\")"
   ]
  },
  {
   "cell_type": "code",
   "execution_count": 2,
   "id": "bdb3730e-2b7a-42ce-907c-c9605341da26",
   "metadata": {},
   "outputs": [],
   "source": [
    "df = pd.read_feather(\"cleaned_stop_words.feather\")"
   ]
  },
  {
   "cell_type": "code",
   "execution_count": 4,
   "id": "2c722fbc-5b7c-4f4a-9316-d68e3ea6906b",
   "metadata": {
    "tags": []
   },
   "outputs": [],
   "source": [
    "from nltk.corpus import stopwords\n",
    "stop = stopwords.words('english')"
   ]
  },
  {
   "cell_type": "code",
   "execution_count": null,
   "id": "25d4ce2e-f688-4acc-9e08-ee68e186ce21",
   "metadata": {
    "tags": []
   },
   "outputs": [],
   "source": [
    "for word in stop:\n",
    "    df['DESCRIPTION'] = df['DESCRIPTION'].str.replace(\" \"+word+\" \", '')"
   ]
  },
  {
   "cell_type": "code",
   "execution_count": 2,
   "id": "5b6b3e53-d79d-4695-aba3-251539875834",
   "metadata": {},
   "outputs": [],
   "source": [
    "df = pd.read_feather(\"removed_stop_words.feather\")"
   ]
  },
  {
   "cell_type": "code",
   "execution_count": 3,
   "id": "a575f81e-64f8-4863-a766-b9d2e4aa43ee",
   "metadata": {
    "tags": []
   },
   "outputs": [
    {
     "data": {
      "text/html": [
       "<div>\n",
       "<style scoped>\n",
       "    .dataframe tbody tr th:only-of-type {\n",
       "        vertical-align: middle;\n",
       "    }\n",
       "\n",
       "    .dataframe tbody tr th {\n",
       "        vertical-align: top;\n",
       "    }\n",
       "\n",
       "    .dataframe thead th {\n",
       "        text-align: right;\n",
       "    }\n",
       "</style>\n",
       "<table border=\"1\" class=\"dataframe\">\n",
       "  <thead>\n",
       "    <tr style=\"text-align: right;\">\n",
       "      <th></th>\n",
       "      <th>TITLE</th>\n",
       "      <th>DESCRIPTION</th>\n",
       "      <th>PRODUCT_TYPE_ID</th>\n",
       "      <th>PRODUCT_LENGTH</th>\n",
       "    </tr>\n",
       "  </thead>\n",
       "  <tbody>\n",
       "    <tr>\n",
       "      <th>0</th>\n",
       "      <td>artzfolio tulip flowers blackout curtaindoor w...</td>\n",
       "      <td>luxurious appealing beautiful custom-made cur...</td>\n",
       "      <td>1650</td>\n",
       "      <td>2125.980000</td>\n",
       "    </tr>\n",
       "    <tr>\n",
       "      <th>1</th>\n",
       "      <td>marks spencer girls pyjama sets t86_2561c_navy...</td>\n",
       "      <td>harry potter hedwig pyjamas (6-16 yrs) 100% c...</td>\n",
       "      <td>2755</td>\n",
       "      <td>393.700000</td>\n",
       "    </tr>\n",
       "    <tr>\n",
       "      <th>2</th>\n",
       "      <td>priknik horn red electric air horn compressor ...</td>\n",
       "      <td>specifications color red material aluminium vo...</td>\n",
       "      <td>7537</td>\n",
       "      <td>748.031495</td>\n",
       "    </tr>\n",
       "    <tr>\n",
       "      <th>3</th>\n",
       "      <td>alishah women cotton ankle length leggings com...</td>\n",
       "      <td>aishah women lycra cotton ankel leggings brand...</td>\n",
       "      <td>2996</td>\n",
       "      <td>787.401574</td>\n",
       "    </tr>\n",
       "    <tr>\n",
       "      <th>4</th>\n",
       "      <td>the united empire loyalistschronicle ofgreat m...</td>\n",
       "      <td>the united empire loyalists chronicle great mi...</td>\n",
       "      <td>6112</td>\n",
       "      <td>598.424000</td>\n",
       "    </tr>\n",
       "  </tbody>\n",
       "</table>\n",
       "</div>"
      ],
      "text/plain": [
       "                                               TITLE   \n",
       "0  artzfolio tulip flowers blackout curtaindoor w...  \\\n",
       "1  marks spencer girls pyjama sets t86_2561c_navy...   \n",
       "2  priknik horn red electric air horn compressor ...   \n",
       "3  alishah women cotton ankle length leggings com...   \n",
       "4  the united empire loyalistschronicle ofgreat m...   \n",
       "\n",
       "                                         DESCRIPTION  PRODUCT_TYPE_ID   \n",
       "0   luxurious appealing beautiful custom-made cur...             1650  \\\n",
       "1   harry potter hedwig pyjamas (6-16 yrs) 100% c...             2755   \n",
       "2  specifications color red material aluminium vo...             7537   \n",
       "3  aishah women lycra cotton ankel leggings brand...             2996   \n",
       "4  the united empire loyalists chronicle great mi...             6112   \n",
       "\n",
       "   PRODUCT_LENGTH  \n",
       "0     2125.980000  \n",
       "1      393.700000  \n",
       "2      748.031495  \n",
       "3      787.401574  \n",
       "4      598.424000  "
      ]
     },
     "execution_count": 3,
     "metadata": {},
     "output_type": "execute_result"
    }
   ],
   "source": [
    "df.head()"
   ]
  },
  {
   "cell_type": "code",
   "execution_count": 4,
   "id": "5a135ccc-3200-47ce-9c66-5d0d0f616562",
   "metadata": {
    "tags": []
   },
   "outputs": [
    {
     "data": {
      "text/plain": [
       "' luxurious appealing beautiful custom-made curtains decorate home office includes inbuilt tieback hold curtain completely finished ready hang walls windows material luxurious versatile fabric natural finish high colour fastness state-of-the-art digital printing ensures colour consistency prevents fading eyelets cotton canvas width 4 5feet (54inch) multicolour package 2 room curtains eyelets size height 5 feet (60 inch) set 2 pcs blackout curtain 100% opaque heavy premium cotton canvas fabric tight knitted long life durable fabric printing front side plain colour back side made perfection large eyelets top put hanging hooks perfectly tailored seams durability refined stitching matching thread color quality assured gentle wash similar colors cold water avoid direct sunlight prevent fading dispatched multiple quality checks '"
      ]
     },
     "execution_count": 4,
     "metadata": {},
     "output_type": "execute_result"
    }
   ],
   "source": [
    "df.iloc[0].DESCRIPTION"
   ]
  },
  {
   "cell_type": "code",
   "execution_count": null,
   "id": "f412a4b0-7646-4544-914d-3e6aafe3af6c",
   "metadata": {},
   "outputs": [],
   "source": []
  }
 ],
 "metadata": {
  "kernelspec": {
   "display_name": "Python 3 (ipykernel)",
   "language": "python",
   "name": "python3"
  },
  "language_info": {
   "codemirror_mode": {
    "name": "ipython",
    "version": 3
   },
   "file_extension": ".py",
   "mimetype": "text/x-python",
   "name": "python",
   "nbconvert_exporter": "python",
   "pygments_lexer": "ipython3",
   "version": "3.8.2"
  }
 },
 "nbformat": 4,
 "nbformat_minor": 5
}
